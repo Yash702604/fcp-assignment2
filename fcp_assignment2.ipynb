{
 "cells": [
  {
   "cell_type": "markdown",
   "metadata": {
    "vscode": {
     "languageId": "plaintext"
    }
   },
   "source": [
    "$\\text{Q1. Write a function digitcount that takes a number and a digit as argument and returns the number of times the digit is present}$ $\\text{ in that number.}$"
   ]
  },
  {
   "cell_type": "code",
   "execution_count": null,
   "metadata": {},
   "outputs": [],
   "source": [
    "def digit_count(n,m):\n",
    "    count=0\n",
    "    while (n!= 0):\n",
    "        k=n%10\n",
    "        if (k==m):\n",
    "            count=count+1\n",
    "        n=(n//10)\n",
    "    return count\n",
    "n = int(input(\"ENTER THE NUMBER\") , )\n",
    "m = int(input(\"ENTER THE DIGIT TO SEARCH FOR\") , )\n",
    "k = digit_count(n,m)\n",
    "print(f\"No. of times {m} appears in {n}\"= k)"
   ]
  },
  {
   "cell_type": "markdown",
   "metadata": {},
   "source": [
    "$\\text{Q2.Write a function despace to remove all the spaces from a string.}$"
   ]
  },
  {
   "cell_type": "code",
   "execution_count": null,
   "metadata": {},
   "outputs": [],
   "source": [
    "def d_space(str):\n",
    "    list = str.split( )\n",
    "    dstring = ''\n",
    "    for i in range (len(list)):\n",
    "        dstring = dstring + list[i]\n",
    "    return dstring\n",
    "variable_string = input(\"ENTER THE STRING TO DESPACE\" , )\n",
    "new_string = d_space(variable_string)\n",
    "print(f\"THE STRING {variable_string} AFTER DESPACING LOOKS LIKE  :\" , new_string)\n"
   ]
  },
  {
   "cell_type": "markdown",
   "metadata": {},
   "source": [
    "$\\text{Q3. Write a function reversewords that takes a sentence and returns a new sentence with all the }$ $\\text{words in the reserse order.}$"
   ]
  },
  {
   "cell_type": "code",
   "execution_count": null,
   "metadata": {},
   "outputs": [],
   "source": [
    "def reverse_words(sentence):\n",
    "    words = sentence.split()\n",
    "    reversed_words = words[::-1]\n",
    "    return ' '.join(reversed_words)\n",
    "sentence = input(\"ENTER THE SENTENCE TO REVERSE\")\n",
    "reversed_sentence = reverse_words(sentence)\n",
    "print(reversed_sentence)"
   ]
  },
  {
   "cell_type": "markdown",
   "metadata": {},
   "source": [
    "$\\text{Q4.Write a python program to compute the sum of all the multiples of 3 or 5 below 1000.}$"
   ]
  },
  {
   "cell_type": "code",
   "execution_count": null,
   "metadata": {},
   "outputs": [],
   "source": [
    "sum = 0\n",
    "for i in range (1000):\n",
    "    if (i%3)==0 or (i%5)==0 :\n",
    "        sum = sum + i\n",
    "print(sum)"
   ]
  },
  {
   "cell_type": "markdown",
   "metadata": {},
   "source": [
    "$\\text{Q5.Write a function generatepassword to generate random password of given length.}$"
   ]
  },
  {
   "cell_type": "code",
   "execution_count": null,
   "metadata": {},
   "outputs": [],
   "source": [
    "import random\n",
    "import string\n",
    "\n",
    "def generate_password(length):\n",
    "    characters = string.ascii_letters + string.digits\n",
    "    password = ''.join(random.choice(characters) for _ in range(length))\n",
    "    return password\n",
    "password_length = int(input(\"Enter the length of the password\"))\n",
    "print(\"Generated password:\", generate_password(password_length))"
   ]
  },
  {
   "cell_type": "markdown",
   "metadata": {},
   "source": [
    "$\\text{Q6. fortune is popular program on Unix that displays a random message from a database of }$ $\\text{quotations. These quotes are often funny and witty.}$"
   ]
  },
  {
   "cell_type": "code",
   "execution_count": null,
   "metadata": {},
   "outputs": [],
   "source": [
    "import random\n",
    "\n",
    "def load_quotes(filename):\n",
    "    with open(filename, 'r') as file:\n",
    "        content = file.read()\n",
    "    quotes = content.split('%')\n",
    "    return [quote.strip() for quote in quotes if quote.strip()]\n",
    "\n",
    "def print_random_quote(quotes):\n",
    "    quote = random.choice(quotes)\n",
    "    print(quote)\n",
    "\n",
    "if __name__ == \"__main__\":\n",
    "    quotes = load_quotes('fortune.txt')\n",
    "    print_random_quote(quotes)"
   ]
  },
  {
   "cell_type": "markdown",
   "metadata": {},
   "source": [
    "$\\text{Q7.Write a program countdown.py to print numbers from n to 1.}$"
   ]
  },
  {
   "cell_type": "code",
   "execution_count": null,
   "metadata": {},
   "outputs": [],
   "source": [
    "num1=int(input(\"Enter the countdown from\"))\n",
    "while n>0 :\n",
    "    print(n)\n",
    "    n=n-1"
   ]
  },
  {
   "cell_type": "markdown",
   "metadata": {},
   "source": [
    "$\\text{Q8.Write a function \"largest number in file\" that takes a name of a file containing numbers as an }$ $\\text{arguments and returns largest number in that file.}$"
   ]
  },
  {
   "cell_type": "code",
   "execution_count": null,
   "metadata": {},
   "outputs": [],
   "source": [
    "def largest_number_in_file(filename):\n",
    "    try:\n",
    "        with open(filename, 'r') as file:\n",
    "            numbers = [float(line.strip()) for line in file]\n",
    "        return max(numbers) if numbers else None\n",
    "    except FileNotFoundError:\n",
    "        print(f\"The file {filename} does not exist.\")\n",
    "        return None\n",
    "    except ValueError:\n",
    "        print(\"The file contains non-numeric values.\")\n",
    "        return None\n",
    "filename = input(\"Enter the file name\")\n",
    "largest_number = largest_number_in_file(filename)\n",
    "if largest_number is not None:\n",
    "    print(f\"The largest number in the file is: {largest_number}\")\n"
   ]
  },
  {
   "cell_type": "markdown",
   "metadata": {},
   "source": [
    "$\\text{Q9. Plot}$ $ x^2 $ $\\text{and}$ $2^x$ $\\text{in the range (-2,2).}$"
   ]
  },
  {
   "cell_type": "code",
   "execution_count": null,
   "metadata": {},
   "outputs": [],
   "source": [
    "import numpy as np\n",
    "import matplotlib.pyplot as plt\n",
    "\n",
    "x = np.linspace(-2, 2, 400)\n",
    "\n",
    "y1 = x**2\n",
    "y2 = 2**x\n",
    "\n",
    "plt.figure(figsize=(10, 6))\n",
    "plt.plot(x, y1, label=r'$y = x^2$', color='blue')\n",
    "plt.plot(x, y2, label=r'$y = 2^x$', color='orange')\n",
    "\n",
    "plt.title('Plot of $y = x^2$ and $y = 2^x$')\n",
    "plt.xlabel('x')\n",
    "plt.ylabel('y')\n",
    "\n",
    "plt.legend()\n",
    "plt.grid()\n",
    "\n",
    "plt.xlim(-2, 2)\n",
    "plt.ylim(-1, 5)\n",
    "plt.axhline(0, color='black',linewidth=0.5, ls='--')\n",
    "plt.axvline(0, color='black',linewidth=0.5, ls='--')\n",
    "plt.show()"
   ]
  },
  {
   "cell_type": "markdown",
   "metadata": {},
   "source": [
    "$\\text{Q10. Write a function \"manhattandistance\" to compute the manhattan distance between two vectors.}$"
   ]
  },
  {
   "cell_type": "code",
   "execution_count": null,
   "metadata": {},
   "outputs": [],
   "source": [
    "def manhattan_distance(vector1, vector2):\n",
    "    if len(vector1) != len(vector2):\n",
    "        raise ValueError(\"Vectors must be of the same length.\")\n",
    "    distance = sum(abs(a - b) for a, b in zip(vector1, vector2))\n",
    "    return distance\n",
    "vector1 = list(map(float, input(\"Enter the first vector elements separated by spaces: \").split()))\n",
    "vector2 = list(map(float, input(\"Enter the second vector elements separated by spaces: \").split()))\n",
    "distance = manhattan_distance(vector1, vector2)\n",
    "print(f\"The Manhattan distance between {vector1} and {vector2} is {distance}.\")"
   ]
  }
 ],
 "metadata": {
  "kernelspec": {
   "display_name": "Python 3",
   "language": "python",
   "name": "python3"
  },
  "language_info": {
   "name": "python",
   "version": "3.12.3"
  }
 },
 "nbformat": 4,
 "nbformat_minor": 2
}
